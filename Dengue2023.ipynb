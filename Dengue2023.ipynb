{
  "nbformat": 4,
  "nbformat_minor": 0,
  "metadata": {
    "colab": {
      "provenance": [],
      "authorship_tag": "ABX9TyMbz7cOC3RLI0NshTBJBxgo",
      "include_colab_link": true
    },
    "kernelspec": {
      "name": "python3",
      "display_name": "Python 3"
    },
    "language_info": {
      "name": "python"
    }
  },
  "cells": [
    {
      "cell_type": "markdown",
      "metadata": {
        "id": "view-in-github",
        "colab_type": "text"
      },
      "source": [
        "<a href=\"https://colab.research.google.com/github/Santiagoguii/Big-data/blob/main/Dengue2023.ipynb\" target=\"_parent\"><img src=\"https://colab.research.google.com/assets/colab-badge.svg\" alt=\"Open In Colab\"/></a>"
      ]
    },
    {
      "cell_type": "code",
      "execution_count": 4,
      "metadata": {
        "colab": {
          "base_uri": "https://localhost:8080/"
        },
        "id": "FfZ2PycEA0MG",
        "outputId": "905f628a-9b03-4011-e5cc-103ecf8c8538"
      },
      "outputs": [
        {
          "output_type": "stream",
          "name": "stdout",
          "text": [
            "Requirement already satisfied: pysus in /usr/local/lib/python3.10/dist-packages (0.13.1)\n",
            "Requirement already satisfied: Unidecode<2.0.0,>=1.3.6 in /usr/local/lib/python3.10/dist-packages (from pysus) (1.3.8)\n",
            "Requirement already satisfied: aioftp<0.22.0,>=0.21.4 in /usr/local/lib/python3.10/dist-packages (from pysus) (0.21.4)\n",
            "Requirement already satisfied: bigtree<0.13.0,>=0.12.2 in /usr/local/lib/python3.10/dist-packages (from pysus) (0.12.5)\n",
            "Requirement already satisfied: cffi==1.15.1 in /usr/local/lib/python3.10/dist-packages (from pysus) (1.15.1)\n",
            "Requirement already satisfied: dateparser<2.0.0,>=1.1.8 in /usr/local/lib/python3.10/dist-packages (from pysus) (1.2.0)\n",
            "Requirement already satisfied: dbfread==2.0.7 in /usr/local/lib/python3.10/dist-packages (from pysus) (2.0.7)\n",
            "Requirement already satisfied: elasticsearch[preprocessing]==7.16.2 in /usr/local/lib/python3.10/dist-packages (from pysus) (7.16.2)\n",
            "Requirement already satisfied: fastparquet>=2023.10.1 in /usr/local/lib/python3.10/dist-packages (from pysus) (2024.2.0)\n",
            "Requirement already satisfied: humanize<5.0.0,>=4.8.0 in /usr/local/lib/python3.10/dist-packages (from pysus) (4.9.0)\n",
            "Requirement already satisfied: loguru<0.7.0,>=0.6.0 in /usr/local/lib/python3.10/dist-packages (from pysus) (0.6.0)\n",
            "Requirement already satisfied: numpy==1.26.2 in /usr/local/lib/python3.10/dist-packages (from pysus) (1.26.2)\n",
            "Requirement already satisfied: pandas>=2.1.0 in /usr/local/lib/python3.10/dist-packages (from pysus) (2.2.2)\n",
            "Requirement already satisfied: pyarrow>=11.0.0 in /usr/local/lib/python3.10/dist-packages (from pysus) (14.0.2)\n",
            "Requirement already satisfied: pycparser==2.21 in /usr/local/lib/python3.10/dist-packages (from pysus) (2.21)\n",
            "Requirement already satisfied: pyreaddbc>=1.1.0 in /usr/local/lib/python3.10/dist-packages (from pysus) (1.2.0)\n",
            "Requirement already satisfied: python-dateutil==2.8.2 in /usr/local/lib/python3.10/dist-packages (from pysus) (2.8.2)\n",
            "Requirement already satisfied: tqdm==4.64.0 in /usr/local/lib/python3.10/dist-packages (from pysus) (4.64.0)\n",
            "Requirement already satisfied: typing-extensions<5.0.0,>=4.9.0 in /usr/local/lib/python3.10/dist-packages (from pysus) (4.11.0)\n",
            "Requirement already satisfied: urwid<3.0.0,>=2.1.2 in /usr/local/lib/python3.10/dist-packages (from pysus) (2.6.10)\n",
            "Requirement already satisfied: wget<4.0,>=3.2 in /usr/local/lib/python3.10/dist-packages (from pysus) (3.2)\n",
            "\u001b[33mWARNING: elasticsearch 7.16.2 does not provide the extra 'preprocessing'\u001b[0m\u001b[33m\n",
            "\u001b[0mRequirement already satisfied: urllib3<2,>=1.21.1 in /usr/local/lib/python3.10/dist-packages (from elasticsearch[preprocessing]==7.16.2->pysus) (1.26.18)\n",
            "Requirement already satisfied: certifi in /usr/local/lib/python3.10/dist-packages (from elasticsearch[preprocessing]==7.16.2->pysus) (2024.2.2)\n",
            "Requirement already satisfied: six>=1.5 in /usr/local/lib/python3.10/dist-packages (from python-dateutil==2.8.2->pysus) (1.16.0)\n",
            "Requirement already satisfied: pytz in /usr/local/lib/python3.10/dist-packages (from dateparser<2.0.0,>=1.1.8->pysus) (2023.4)\n",
            "Requirement already satisfied: regex!=2019.02.19,!=2021.8.27 in /usr/local/lib/python3.10/dist-packages (from dateparser<2.0.0,>=1.1.8->pysus) (2023.12.25)\n",
            "Requirement already satisfied: tzlocal in /usr/local/lib/python3.10/dist-packages (from dateparser<2.0.0,>=1.1.8->pysus) (5.2)\n",
            "Requirement already satisfied: cramjam>=2.3 in /usr/local/lib/python3.10/dist-packages (from fastparquet>=2023.10.1->pysus) (2.8.3)\n",
            "Requirement already satisfied: fsspec in /usr/local/lib/python3.10/dist-packages (from fastparquet>=2023.10.1->pysus) (2023.6.0)\n",
            "Requirement already satisfied: packaging in /usr/local/lib/python3.10/dist-packages (from fastparquet>=2023.10.1->pysus) (24.0)\n",
            "Requirement already satisfied: tzdata>=2022.7 in /usr/local/lib/python3.10/dist-packages (from pandas>=2.1.0->pysus) (2024.1)\n",
            "Requirement already satisfied: pyyaml>=6 in /usr/local/lib/python3.10/dist-packages (from pyreaddbc>=1.1.0->pysus) (6.0.1)\n",
            "Requirement already satisfied: wcwidth in /usr/local/lib/python3.10/dist-packages (from urwid<3.0.0,>=2.1.2->pysus) (0.2.13)\n"
          ]
        }
      ],
      "source": [
        "pip install pysus"
      ]
    },
    {
      "cell_type": "code",
      "source": [
        "from pysus.online_data import SINAN\n",
        "import pandas as pd"
      ],
      "metadata": {
        "id": "7e5CAlb3BlpZ"
      },
      "execution_count": 11,
      "outputs": []
    },
    {
      "cell_type": "code",
      "source": [
        "# Listando as doenças disponíveis\n",
        "SINAN.list_diseases()"
      ],
      "metadata": {
        "colab": {
          "base_uri": "https://localhost:8080/"
        },
        "id": "OT1wOMyhDdrm",
        "outputId": "28bc31ba-870b-43de-ebfd-a691c754721b"
      },
      "execution_count": 30,
      "outputs": [
        {
          "output_type": "execute_result",
          "data": {
            "text/plain": [
              "{'ACBI': 'Acidente de trabalho com material biológico',\n",
              " 'ACGR': 'Acidente de trabalho',\n",
              " 'ANIM': 'Acidente por Animais Peçonhentos',\n",
              " 'ANTR': 'Atendimento Antirrabico',\n",
              " 'BOTU': 'Botulismo',\n",
              " 'CANC': 'Cancêr relacionado ao trabalho',\n",
              " 'CHAG': 'Doença de Chagas Aguda',\n",
              " 'CHIK': 'Febre de Chikungunya',\n",
              " 'COLE': 'Cólera',\n",
              " 'COQU': 'Coqueluche',\n",
              " 'DENG': 'Dengue',\n",
              " 'DERM': 'Dermatoses ocupacionais',\n",
              " 'DIFT': 'Difteria',\n",
              " 'ESQU': 'Esquistossomose',\n",
              " 'EXAN': 'Doença exantemáticas',\n",
              " 'FMAC': 'Febre Maculosa',\n",
              " 'FTIF': 'Febre Tifóide',\n",
              " 'HANS': 'Hanseníase',\n",
              " 'HANT': 'Hantavirose',\n",
              " 'HEPA': 'Hepatites Virais',\n",
              " 'IEXO': 'Intoxicação Exógena',\n",
              " 'INFL': 'Influenza Pandêmica',\n",
              " 'LEIV': 'Leishmaniose Visceral',\n",
              " 'LEPT': 'Leptospirose',\n",
              " 'LERD': 'LER/Dort',\n",
              " 'LTAN': 'Leishmaniose Tegumentar Americana',\n",
              " 'MALA': 'Malária',\n",
              " 'MENI': 'Meningite',\n",
              " 'MENT': 'Transtornos mentais relacionados ao trabalho',\n",
              " 'NTRA': 'Notificação de Tracoma',\n",
              " 'PAIR': 'Perda auditiva por ruído relacionado ao trabalho',\n",
              " 'PEST': 'Peste',\n",
              " 'PFAN': 'Paralisia Flácida Aguda',\n",
              " 'PNEU': 'Pneumoconioses realacionadas ao trabalho',\n",
              " 'RAIV': 'Raiva',\n",
              " 'SDTA': 'Surto Doenças Transmitidas por Alimentos',\n",
              " 'SIFA': 'Sífilis Adquirida',\n",
              " 'SIFC': 'Sífilis Congênita',\n",
              " 'SIFG': 'Sífilis em Gestante',\n",
              " 'SRC': 'Síndrome da Rubéola Congênia',\n",
              " 'TETA': 'Tétano Acidental',\n",
              " 'TETN': 'Tétano Neonatal',\n",
              " 'TOXC': 'Toxoplasmose Congênita',\n",
              " 'TOXG': 'Toxoplasmose Gestacional',\n",
              " 'TRAC': 'Inquérito de Tracoma',\n",
              " 'TUBE': 'Tuberculose',\n",
              " 'VARC': 'Varicela',\n",
              " 'VIOL': 'Violência doméstica, sexual e/ou outras violências',\n",
              " 'ZIKA': 'Zika Vírus'}"
            ]
          },
          "metadata": {},
          "execution_count": 30
        }
      ]
    },
    {
      "cell_type": "code",
      "source": [
        "#Baixando os dados sobre Dengue\n",
        "SINAN.download('Deng', years=2023)"
      ],
      "metadata": {
        "colab": {
          "base_uri": "https://localhost:8080/"
        },
        "id": "h-KcbDULEtFG",
        "outputId": "a9a129fa-87e4-4913-b8dc-366f6c0d4c2e"
      },
      "execution_count": 31,
      "outputs": [
        {
          "output_type": "stream",
          "name": "stderr",
          "text": [
            "100%|██████████| 54.9M/54.9M [00:00<00:00, 11.4GB/s]\n"
          ]
        },
        {
          "output_type": "execute_result",
          "data": {
            "text/plain": [
              "/root/pysus/DENGBR23.parquet"
            ]
          },
          "metadata": {},
          "execution_count": 31
        }
      ]
    },
    {
      "cell_type": "code",
      "source": [
        "# Carregando o conjunto de dados\n",
        "df_dengue = pd.read_parquet('/root/pysus/DENGBR23.parquet')"
      ],
      "metadata": {
        "id": "Jb3dNBtpGNdX"
      },
      "execution_count": 16,
      "outputs": []
    },
    {
      "cell_type": "code",
      "source": [
        "print(df_dengue.head())"
      ],
      "metadata": {
        "colab": {
          "base_uri": "https://localhost:8080/"
        },
        "id": "HX9JAGPuGy_T",
        "outputId": "3c148975-c79e-4f0f-8cc6-06c215953158"
      },
      "execution_count": 26,
      "outputs": [
        {
          "output_type": "stream",
          "name": "stdout",
          "text": [
            "  TP_NOT ID_AGRAVO DT_NOTIFIC SEM_NOT NU_ANO SG_UF_NOT ID_MUNICIP ID_REGIONA  \\\n",
            "0      2     A90     20230216  202307   2023        35     354340   1348       \n",
            "1      2     A90     20230216  202307   2023        35     354340   1348       \n",
            "2      2     A90     20230216  202307   2023        35     354340   1348       \n",
            "3      2     A90     20230217  202307   2023        35     354340   1348       \n",
            "4      2     A90     20230218  202307   2023        35     354340   1348       \n",
            "\n",
            "  ID_UNIDADE DT_SIN_PRI  ... EVIDENCIA PLAQ_MENOR CON_FHD COMPLICA TP_SISTEMA  \\\n",
            "0    0414301   20230214  ...                                                2   \n",
            "1    2079275   20230211  ...                                                2   \n",
            "2    7729766   20230215  ...                                                2   \n",
            "3    2076594   20230216  ...                                                2   \n",
            "4    0414301   20230215  ...                                                2   \n",
            "\n",
            "  NDUPLIC_N DT_DIGITA CS_FLXRET FLXRECEBI MIGRADO_W  \n",
            "0            20230217         0                      \n",
            "1            20230223         0                      \n",
            "2            20230217         1                      \n",
            "3            20230217         0                      \n",
            "4            20230222         1                      \n",
            "\n",
            "[5 rows x 121 columns]\n"
          ]
        }
      ]
    },
    {
      "cell_type": "code",
      "source": [
        "# Verificando o número de registros e variáveis\n",
        "print(\"Número de registros:\", len(df_dengue))\n",
        "print(\"Número de variáveis:\", len(df_dengue.columns))"
      ],
      "metadata": {
        "colab": {
          "base_uri": "https://localhost:8080/"
        },
        "id": "LlbyautKG_Py",
        "outputId": "5ebe5824-9e9d-49db-d96a-423524e42160"
      },
      "execution_count": 18,
      "outputs": [
        {
          "output_type": "stream",
          "name": "stdout",
          "text": [
            "Número de registros: 1512277\n",
            "Número de variáveis: 121\n"
          ]
        }
      ]
    },
    {
      "cell_type": "code",
      "source": [
        "# Verificando informações (variáveis e possíveis lacunas nos dados)\n",
        "print(df_dengue.info())"
      ],
      "metadata": {
        "colab": {
          "base_uri": "https://localhost:8080/"
        },
        "id": "23gyamQJHFbr",
        "outputId": "cc70b4fb-0c11-4181-dda4-fa9fac3c019f"
      },
      "execution_count": 27,
      "outputs": [
        {
          "output_type": "stream",
          "name": "stdout",
          "text": [
            "<class 'pandas.core.frame.DataFrame'>\n",
            "RangeIndex: 1512277 entries, 0 to 1512276\n",
            "Columns: 121 entries, TP_NOT to MIGRADO_W\n",
            "dtypes: object(121)\n",
            "memory usage: 1.4+ GB\n",
            "None\n"
          ]
        }
      ]
    },
    {
      "cell_type": "code",
      "source": [
        "# Verificando estatísticas descritivas das variáveis numéricas\n",
        "print(df_dengue.describe())"
      ],
      "metadata": {
        "colab": {
          "base_uri": "https://localhost:8080/"
        },
        "id": "QDHL_sAHHNIm",
        "outputId": "686f38f0-0bef-47f1-b66b-9d5e94c716d5"
      },
      "execution_count": 20,
      "outputs": [
        {
          "output_type": "stream",
          "name": "stdout",
          "text": [
            "         TP_NOT ID_AGRAVO DT_NOTIFIC  SEM_NOT   NU_ANO SG_UF_NOT ID_MUNICIP  \\\n",
            "count   1512277   1512277    1512277  1512277  1512277   1512277    1512277   \n",
            "unique        2         1        364       52        1        26       4536   \n",
            "top           2     A90     20230410   202315     2023        31     411370   \n",
            "freq    1512273   1512277      22566   106024  1512277    406701      47306   \n",
            "\n",
            "       ID_REGIONA ID_UNIDADE DT_SIN_PRI  ... EVIDENCIA PLAQ_MENOR  CON_FHD  \\\n",
            "count     1512277    1512277    1512277  ...   1512277    1512277  1512277   \n",
            "unique        311      26965        364  ...         1          1        1   \n",
            "top                  7037112   20230410  ...                                 \n",
            "freq        97907      11560      19047  ...   1512277    1512277  1512277   \n",
            "\n",
            "       COMPLICA TP_SISTEMA NDUPLIC_N DT_DIGITA CS_FLXRET FLXRECEBI MIGRADO_W  \n",
            "count   1512277    1512277   1512277   1512277   1512277   1512277   1512277  \n",
            "unique        1          2         2       453         3         1         1  \n",
            "top                      2                             0                      \n",
            "freq    1512277    1489042   1509772     23231    907113   1512277   1512277  \n",
            "\n",
            "[4 rows x 121 columns]\n"
          ]
        }
      ]
    },
    {
      "cell_type": "code",
      "source": [
        "# Verificando valores ausentes das variáveis\n",
        "print(\"Valores ausentes por variável:\")\n",
        "print(df_dengue.isnull().sum())\n"
      ],
      "metadata": {
        "colab": {
          "base_uri": "https://localhost:8080/"
        },
        "id": "Q0ZH2ehWHcQ4",
        "outputId": "600f0240-e0e5-464f-f18f-7a7e3996644e"
      },
      "execution_count": 28,
      "outputs": [
        {
          "output_type": "stream",
          "name": "stdout",
          "text": [
            "Valores ausentes por variável:\n",
            "TP_NOT        0\n",
            "ID_AGRAVO     0\n",
            "DT_NOTIFIC    0\n",
            "SEM_NOT       0\n",
            "NU_ANO        0\n",
            "             ..\n",
            "NDUPLIC_N     0\n",
            "DT_DIGITA     0\n",
            "CS_FLXRET     0\n",
            "FLXRECEBI     0\n",
            "MIGRADO_W     0\n",
            "Length: 121, dtype: int64\n"
          ]
        }
      ]
    }
  ]
}